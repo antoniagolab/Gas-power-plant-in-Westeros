{
 "cells": [
  {
   "cell_type": "markdown",
   "metadata": {},
   "source": [
    "# HW 3 - Open Source Energy System Modelling \n",
    "\n",
    "by Antonia Golab\n",
    "\n",
    "The following script uses the baseline scenario from \"westeros_baseline.ipynb\"- tutorial by IIASA as a starting point and introduces a gas power plant - in particular a natural gas combined cycle power plant to the scenario.\n",
    "\n",
    "For this, the following assumptions were made about this power plant: The lifetime of the power plant is assumed to be 25 (1,2). Following a case study by EIA (2), investment costs are estimated to be 1,084 $/ kW (see case 8 in report), fixed costs 14.10 USD/kW per year and variable ones 2.55 USD/MWh = 22.338 USD/kWa. It is assumed that the power plant emitts up to 3.144 tCO2/kWa (3) which is a value applicable for NGCC power plants without carbon capture. \n",
    "\n",
    "In the initial electricity mix, the gas power plant is assumed to produce 1/3 of the demanded electricity.\n",
    "\n",
    "It is important to note here that none of initial parameters describing lifetime and costs of the coal and wind power plants were manipulated. Therefore, their validity and wether these are over- or underestimated compared to real-life systems is not checked. \n",
    "\n",
    "The further goal is to obtain carbon pricings which allow an energy system where the usage of coal, wind and gas for electricity generation at the same time is present.\n",
    "\n",
    "All observations will be made within the bounded period of the model (years 700-720). </br>\n",
    "\n",
    "This _jupyter notebook_ script is structured in the following way: </br>\n",
    "\n",
    "1. Introduction of gas power plant  </br>\n",
    "2. Calculation of initial carbon prices for sensitivity analysis  </br>\n",
    "3. Sensitivity Analysis  </br>\n",
    "3.2. Scenario A: Lower carbon prices  </br>\n",
    "3.3. Scenario B: Higher carbon prices  </br>\n",
    "3.4. Scenario C: Declining carbon prices  </br>\n",
    "3.5. Scenario D: Peak Carbon price in 710  </br>\n",
    "3.5. Scenario E: Drop in carbon price 710  </br>\n",
    "4. Final discussion </br>\n",
    "\n",
    "References: \n",
    "\n",
    "(1) Singh, B., Strømman, A. H., & Hertwich, E. (2011). Life cycle assessment of natural gas combined cycle power plant with post-combustion carbon capture, transport and storage. International Journal of Greenhouse Gas Control, 5(3), 457-466.\n",
    "\n",
    "(2) https://www.eia.gov/analysis/studies/powerplants/capitalcost/pdf/capital_cost_AEO2020.pdf, last access May 31th, 2021.\n",
    "\n",
    "(3) Rubin, E. S., Rao, A. B., & Chen, C. (2005). Comparative assessments of fossil fuel power plants with CO2 capture and storage. In Greenhouse gas control technologies 7 (pp. 285-293). Elsevier Science Ltd.\n"
   ]
  },
  {
   "cell_type": "markdown",
   "metadata": {},
   "source": [
    "## 1. Introduction of gas power plant\n",
    "\n",
    "In this step, the gas power plant is introduced to the baseline scenario with parameters describing lifetime and costs as previously described. "
   ]
  },
  {
   "cell_type": "code",
   "execution_count": 1,
   "metadata": {},
   "outputs": [
    {
     "data": {
      "application/javascript": [
       "IPython.OutputArea.prototype._should_scroll = function(lines) { return false; }"
      ],
      "text/plain": [
       "<IPython.core.display.Javascript object>"
      ]
     },
     "metadata": {},
     "output_type": "display_data"
    }
   ],
   "source": [
    "import pandas as pd\n",
    "import ixmp\n",
    "import message_ix\n",
    "\n",
    "from message_ix.utils import make_df\n",
    "\n",
    "%matplotlib inline"
   ]
  },
  {
   "cell_type": "code",
   "execution_count": 2,
   "metadata": {},
   "outputs": [],
   "source": [
    "mp = ixmp.Platform()\n",
    "\n",
    "model = 'Westeros Electrified'\n",
    "\n",
    "base = message_ix.Scenario(mp, model=model, scenario='baseline')\n",
    "scen = base.clone(model, 'westeros_with_gasppl','introducing gas power plant',\n",
    "                  keep_solution=False)\n",
    "scen.check_out()"
   ]
  },
  {
   "cell_type": "code",
   "execution_count": 3,
   "metadata": {},
   "outputs": [],
   "source": [
    "country = 'Westeros'\n",
    "year_df = scen.vintage_and_active_years()\n",
    "vintage_years, act_years = year_df['year_vtg'], year_df['year_act']"
   ]
  },
  {
   "cell_type": "code",
   "execution_count": 4,
   "metadata": {},
   "outputs": [],
   "source": [
    "base = {\n",
    "    'node_loc': country,\n",
    "    'year_vtg': vintage_years,\n",
    "    'year_act': act_years,\n",
    "    'mode': 'standard',\n",
    "    'time': 'year',\n",
    "    'unit': '-',\n",
    "}\n",
    "\n",
    "base_output = make_df(base, node_dest=country, time_dest='year')"
   ]
  },
  {
   "cell_type": "code",
   "execution_count": 5,
   "metadata": {},
   "outputs": [],
   "source": [
    "scen.add_set(\"technology\", ['gas_ppl'])\n",
    "gas_out = make_df(base_output, technology='gas_ppl', commodity='electricity', \n",
    "                   level='secondary', value=1., unit=\"GWa\")\n",
    "scen.add_par('output', gas_out)"
   ]
  },
  {
   "cell_type": "code",
   "execution_count": 6,
   "metadata": {},
   "outputs": [],
   "source": [
    "base_capacity_factor = {\n",
    "    'node_loc': country,\n",
    "    'year_vtg': vintage_years,\n",
    "    'year_act': act_years,\n",
    "    'time': 'year',\n",
    "    'unit': '-',\n",
    "}\n",
    "\n",
    "capacity_factor = {\n",
    "    'gas_ppl': 1,\n",
    "    'coal_ppl': 1,\n",
    "    'wind_ppl': 0.36,\n",
    "    \n",
    "}\n",
    "\n",
    "for tec, val in capacity_factor.items():\n",
    "    df = make_df(base_capacity_factor, technology=tec, value=val)\n",
    "    scen.add_par('capacity_factor', df)"
   ]
  },
  {
   "cell_type": "code",
   "execution_count": 7,
   "metadata": {},
   "outputs": [],
   "source": [
    "model_horizon = [700, 710, 720]\n",
    "\n",
    "base_technical_lifetime = {\n",
    "    'node_loc': country,\n",
    "    'year_vtg': model_horizon,\n",
    "    'unit': 'y',\n",
    "}"
   ]
  },
  {
   "cell_type": "code",
   "execution_count": 8,
   "metadata": {},
   "outputs": [],
   "source": [
    "lifetime = {\n",
    "    'gas_ppl': 25,   # LIFETIME: 25 years\n",
    "}\n",
    "\n",
    "for tec, val in lifetime.items():\n",
    "    df = make_df(base_technical_lifetime, technology=tec, value=val)\n",
    "    scen.add_par('technical_lifetime', df)"
   ]
  },
  {
   "cell_type": "code",
   "execution_count": 9,
   "metadata": {},
   "outputs": [],
   "source": [
    "base_growth = {\n",
    "    'node_loc': country,\n",
    "    'year_act': model_horizon,\n",
    "    'time': 'year',\n",
    "    'unit': '-',\n",
    "}"
   ]
  },
  {
   "cell_type": "code",
   "execution_count": 10,
   "metadata": {},
   "outputs": [],
   "source": [
    "growth_technologies = [\n",
    "    \"gas_ppl\"\n",
    "]\n",
    "\n",
    "for tec in growth_technologies:\n",
    "    df = make_df(base_growth, technology=tec, value=0.1) \n",
    "    scen.add_par('growth_activity_up', df)"
   ]
  },
  {
   "cell_type": "code",
   "execution_count": 11,
   "metadata": {},
   "outputs": [],
   "source": [
    "history = [690]\n",
    "\n",
    "base_capacity = {\n",
    "    'node_loc': country,\n",
    "    'year_vtg': history,\n",
    "    'unit': 'GWa',\n",
    "}\n",
    "\n",
    "base_activity = {\n",
    "    'node_loc': country,\n",
    "    'year_act': history,\n",
    "    'mode': 'standard',\n",
    "    'time': 'year',\n",
    "    'unit': 'GWa',\n",
    "}"
   ]
  },
  {
   "cell_type": "code",
   "execution_count": 12,
   "metadata": {},
   "outputs": [],
   "source": [
    "demand_per_year = 40 * 12 * 1000 / 8760\n",
    "grid_efficiency = 0.9\n",
    "\n",
    "historic_demand = 0.85 * demand_per_year\n",
    "historic_generation = historic_demand / grid_efficiency\n",
    "coal_fraction = 1/3\n",
    "gas_fraction = 1/3\n",
    "\n",
    "\n",
    "old_activity = {\n",
    "    'coal_ppl': coal_fraction * historic_generation,\n",
    "    'wind_ppl': (1 - (coal_fraction + gas_fraction)) * historic_generation,\n",
    "    'gas_ppl': gas_fraction * historic_generation\n",
    "}\n",
    "\n",
    "\n",
    "for tec, val in old_activity.items():\n",
    "    df = make_df(base_activity, technology=tec, value=val)\n",
    "    scen.add_par('historical_activity', df)"
   ]
  },
  {
   "cell_type": "code",
   "execution_count": 13,
   "metadata": {},
   "outputs": [],
   "source": [
    "act_to_cap = {\n",
    "    'gas_ppl': 1 / 10 / capacity_factor['gas_ppl'] / 2, \n",
    "     'coal_ppl': 1 / 10 / capacity_factor['coal_ppl'] / 2, \n",
    "    'wind_ppl': 1 / 10 / capacity_factor['wind_ppl'] / 2,\n",
    "}\n",
    "\n",
    "for tec in act_to_cap:\n",
    "    value = old_activity[tec] * act_to_cap[tec]\n",
    "    df = make_df(base_capacity, technology=tec, value=value)\n",
    "    scen.add_par('historical_new_capacity', df)"
   ]
  },
  {
   "cell_type": "code",
   "execution_count": 14,
   "metadata": {},
   "outputs": [],
   "source": [
    "# in $ / kW (specific investment cost)\n",
    "costs = {\n",
    "    'gas_ppl': 1084    # INVESTEMENT COSTS: 1,084 USD\n",
    " \n",
    "}\n",
    "base_inv_cost = {\n",
    "    'node_loc': country,\n",
    "    'year_vtg': model_horizon,\n",
    "    'unit': 'USD/kW',\n",
    "}\n",
    "for tec, val in costs.items():\n",
    "    df = make_df(base_inv_cost, technology=tec, value=val)\n",
    "    scen.add_par('inv_cost', df)"
   ]
  },
  {
   "cell_type": "code",
   "execution_count": 15,
   "metadata": {},
   "outputs": [],
   "source": [
    "base_fix_cost = {\n",
    "    'node_loc': country,\n",
    "    'year_vtg': vintage_years,\n",
    "    'year_act': act_years,\n",
    "    'unit': 'USD/kWa',\n",
    "}\n",
    "# in $ / kW / year (every year a fixed quantity is destinated to cover part of the O&M costs\n",
    "# based on the size of the plant, e.g. lightning, labor, scheduled maintenance, etc.)\n",
    "\n",
    "costs = {\n",
    "    'gas_ppl': 14.10     # FIXED O&M costs = 14.10 USD/kW per year\n",
    "}\n",
    "\n",
    "for tec, val in costs.items():\n",
    "    df = make_df(base_fix_cost, technology=tec, value=val)\n",
    "    scen.add_par('fix_cost', df)"
   ]
  },
  {
   "cell_type": "code",
   "execution_count": 16,
   "metadata": {},
   "outputs": [
    {
     "name": "stderr",
     "output_type": "stream",
     "text": [
      "INFO:root:unit `tCO2/kWa` is already defined in the platform instance\n",
      "INFO:root:unit `MtCO2` is already defined in the platform instance\n"
     ]
    }
   ],
   "source": [
    "base_var_cost = {\n",
    "    'node_loc': country,\n",
    "    'year_vtg': vintage_years,\n",
    "    'year_act': act_years,\n",
    "    'mode': 'standard',\n",
    "    'time': 'year',\n",
    "    'unit': 'USD/kWa',\n",
    "}\n",
    "\n",
    "\n",
    "costs = {\n",
    "    'gas_ppl': 2.55,    # VARIABLe O&M costs = 2.55 USD/kWa\n",
    "}\n",
    "\n",
    "for tec, val in costs.items():\n",
    "    df = make_df(base_var_cost, technology=tec, value=val)\n",
    "    scen.add_par('var_cost', df)\n",
    "    \n",
    "scen.add_set('emission', 'CO2')\n",
    "scen.add_cat('emission', 'GHG', 'CO2')\n",
    "\n",
    "base_emission_factor = {\n",
    "    'node_loc': country,\n",
    "    'year_vtg': vintage_years,\n",
    "    'year_act': act_years,\n",
    "    'mode': 'standard',\n",
    "    'unit': 'tCO2/kWa',\n",
    "}\n",
    "\n",
    "mp.add_unit('tCO2/kWa')\n",
    "mp.add_unit('MtCO2')\n",
    "\n",
    "# value for coal_ppl is taken from westeros_emissions_bounds - tutorial\n",
    "emission_factor = make_df(base_emission_factor, technology= 'coal_ppl', emission= 'CO2', value = 7.4)\n",
    "scen.add_par('emission_factor', emission_factor)\n",
    "emission_factor = make_df(base_emission_factor, technology= 'gas_ppl', emission= 'CO2', value = 3.144 )\n",
    "scen.add_par('emission_factor', emission_factor)"
   ]
  },
  {
   "cell_type": "code",
   "execution_count": 17,
   "metadata": {},
   "outputs": [],
   "source": [
    "scen.commit(comment='introducing gas power plant')\n",
    "scen.set_as_default()"
   ]
  },
  {
   "cell_type": "code",
   "execution_count": 18,
   "metadata": {},
   "outputs": [],
   "source": [
    "scen.solve()"
   ]
  },
  {
   "cell_type": "code",
   "execution_count": 19,
   "metadata": {},
   "outputs": [],
   "source": [
    "from message_ix.reporting import Reporter\n",
    "from message_ix.util.tutorial import prepare_plots\n",
    "\n",
    "rep = Reporter.from_scenario(scen)\n",
    "prepare_plots(rep)"
   ]
  },
  {
   "cell_type": "code",
   "execution_count": 20,
   "metadata": {},
   "outputs": [
    {
     "data": {
      "text/plain": [
       "<AxesSubplot:title={'center':'Westeros Energy System Activity'}, xlabel='Year', ylabel='GWa'>"
      ]
     },
     "execution_count": 20,
     "metadata": {},
     "output_type": "execute_result"
    },
    {
     "data": {
      "image/png": "[encoded data removed]",
      "text/plain": [
       "<Figure size 432x288 with 1 Axes>"
      ]
     },
     "metadata": {
      "needs_background": "light"
     },
     "output_type": "display_data"
    }
   ],
   "source": [
    "rep.set_filters(t=[\"coal_ppl\", \"wind_ppl\",\"gas_ppl\"])\n",
    "rep.get(\"plot activity\")"
   ]
  },
  {
   "cell_type": "code",
   "execution_count": 21,
   "metadata": {},
   "outputs": [],
   "source": [
    "mp.close_db()"
   ]
  },
  {
   "cell_type": "markdown",
   "metadata": {},
   "source": [
    "The plot above displays the projected activities of power plants after introducing the gas power plant given a cost-minimal solution. \n",
    "\n",
    "The assumption of no emissions will be referred to as  __\"Scenario 0.A\"__ throughout this text."
   ]
  },
  {
   "cell_type": "markdown",
   "metadata": {},
   "source": [
    "## 2. Calculation of initial carbon prices for sensitivity analysis  \n",
    "\n",
    "To introduce carbon prices to system next, carbon prices are calculated to serve as a starting point. They are obtained by imposing emission bound - similar as in the \"westeros_emission_bounds.ipynb\" tutorial which is used here as a template."
   ]
  },
  {
   "cell_type": "markdown",
   "metadata": {},
   "source": [
    "### 2.1. Introduction of emissions"
   ]
  },
  {
   "cell_type": "code",
   "execution_count": 22,
   "metadata": {},
   "outputs": [],
   "source": [
    "mp = ixmp.Platform()\n",
    "model = 'Westeros Electrified'\n",
    "\n",
    "base = message_ix.Scenario(mp, model=model, scenario='westeros_with_gasppl')\n",
    "scen = base.clone(model, 'westeros_with_emissionbound','introducing gas power plant',\n",
    "                  keep_solution=False)\n",
    "scen.check_out()"
   ]
  },
  {
   "cell_type": "markdown",
   "metadata": {},
   "source": [
    "As there are no studies suggesting a CO2 budget for Westeros, the emission bound of 500MtCO2 is used here, following the same procedure as the \"westeros_emissions_bounds\" - tutorial."
   ]
  },
  {
   "cell_type": "code",
   "execution_count": 23,
   "metadata": {},
   "outputs": [],
   "source": [
    "scen.add_par('bound_emission', [country, 'GHG', 'all', 'cumulative'],\n",
    "             value=500., unit='MtCO2')"
   ]
  },
  {
   "cell_type": "code",
   "execution_count": 24,
   "metadata": {},
   "outputs": [],
   "source": [
    "scen.commit(comment='introducing emissions and setting an upper bound')\n",
    "scen.set_as_default()"
   ]
  },
  {
   "cell_type": "code",
   "execution_count": 25,
   "metadata": {},
   "outputs": [],
   "source": [
    "scen.solve()"
   ]
  },
  {
   "cell_type": "code",
   "execution_count": 26,
   "metadata": {},
   "outputs": [],
   "source": [
    "mp.close_db()"
   ]
  },
  {
   "cell_type": "code",
   "execution_count": 27,
   "metadata": {},
   "outputs": [
    {
     "data": {
      "text/html": [
       "<div>\n",
       "<style scoped>\n",
       "    .dataframe tbody tr th:only-of-type {\n",
       "        vertical-align: middle;\n",
       "    }\n",
       "\n",
       "    .dataframe tbody tr th {\n",
       "        vertical-align: top;\n",
       "    }\n",
       "\n",
       "    .dataframe thead th {\n",
       "        text-align: right;\n",
       "    }\n",
       "</style>\n",
       "<table border=\"1\" class=\"dataframe\">\n",
       "  <thead>\n",
       "    <tr style=\"text-align: right;\">\n",
       "      <th></th>\n",
       "      <th>node</th>\n",
       "      <th>emission</th>\n",
       "      <th>type_tec</th>\n",
       "      <th>year</th>\n",
       "      <th>lvl</th>\n",
       "      <th>mrg</th>\n",
       "    </tr>\n",
       "  </thead>\n",
       "  <tbody>\n",
       "    <tr>\n",
       "      <th>0</th>\n",
       "      <td>Westeros</td>\n",
       "      <td>CO2</td>\n",
       "      <td>all</td>\n",
       "      <td>700</td>\n",
       "      <td>471.763722</td>\n",
       "      <td>0.0</td>\n",
       "    </tr>\n",
       "    <tr>\n",
       "      <th>1</th>\n",
       "      <td>Westeros</td>\n",
       "      <td>CO2</td>\n",
       "      <td>all</td>\n",
       "      <td>710</td>\n",
       "      <td>447.608784</td>\n",
       "      <td>0.0</td>\n",
       "    </tr>\n",
       "    <tr>\n",
       "      <th>2</th>\n",
       "      <td>Westeros</td>\n",
       "      <td>CO2</td>\n",
       "      <td>all</td>\n",
       "      <td>720</td>\n",
       "      <td>580.627494</td>\n",
       "      <td>0.0</td>\n",
       "    </tr>\n",
       "  </tbody>\n",
       "</table>\n",
       "</div>"
      ],
      "text/plain": [
       "       node emission type_tec  year         lvl  mrg\n",
       "0  Westeros      CO2      all   700  471.763722  0.0\n",
       "1  Westeros      CO2      all   710  447.608784  0.0\n",
       "2  Westeros      CO2      all   720  580.627494  0.0"
      ]
     },
     "execution_count": 27,
     "metadata": {},
     "output_type": "execute_result"
    }
   ],
   "source": [
    "mp = ixmp.Platform()\n",
    "model = 'Westeros Electrified'\n",
    "\n",
    "scen_bd = message_ix.Scenario(mp, model=model, scenario='westeros_with_emissionbound')\n",
    "emissions = scen_bd.var('EMISS', {'node': 'Westeros'})\n",
    "emissions"
   ]
  },
  {
   "cell_type": "code",
   "execution_count": 28,
   "metadata": {},
   "outputs": [
    {
     "data": {
      "text/plain": [
       "year\n",
       "700    20.705702\n",
       "710    33.727407\n",
       "720    54.938391\n",
       "Name: lvl, dtype: float64"
      ]
     },
     "execution_count": 28,
     "metadata": {},
     "output_type": "execute_result"
    }
   ],
   "source": [
    "emission_prices = scen_bd.var('PRICE_EMISSION')\n",
    "emission_prices.set_index('year').lvl"
   ]
  },
  {
   "cell_type": "code",
   "execution_count": 29,
   "metadata": {},
   "outputs": [],
   "source": [
    "from message_ix.reporting import Reporter\n",
    "from message_ix.util.tutorial import prepare_plots\n",
    "\n",
    "rep = Reporter.from_scenario(scen_bd)\n",
    "prepare_plots(rep)"
   ]
  },
  {
   "cell_type": "code",
   "execution_count": 30,
   "metadata": {},
   "outputs": [
    {
     "data": {
      "text/plain": [
       "<AxesSubplot:title={'center':'Westeros Energy System Activity'}, xlabel='Year', ylabel='GWa'>"
      ]
     },
     "execution_count": 30,
     "metadata": {},
     "output_type": "execute_result"
    },
    {
     "data": {
      "image/png": "[encoded data removed]",
      "text/plain": [
       "<Figure size 432x288 with 1 Axes>"
      ]
     },
     "metadata": {
      "needs_background": "light"
     },
     "output_type": "display_data"
    }
   ],
   "source": [
    "rep.set_filters(t=[\"coal_ppl\", \"wind_ppl\",\"gas_ppl\"])\n",
    "rep.get(\"plot activity\")"
   ]
  },
  {
   "cell_type": "code",
   "execution_count": 31,
   "metadata": {},
   "outputs": [],
   "source": [
    "mp.close_db()"
   ]
  },
  {
   "cell_type": "markdown",
   "metadata": {},
   "source": [
    "To achieve the given upper bound emissions in year 720, the following carbon pricing is suggested: "
   ]
  },
  {
   "cell_type": "code",
   "execution_count": 32,
   "metadata": {},
   "outputs": [
    {
     "data": {
      "text/plain": [
       "year\n",
       "700    20.705702\n",
       "710    33.727407\n",
       "720    54.938391\n",
       "Name: lvl, dtype: float64"
      ]
     },
     "execution_count": 32,
     "metadata": {},
     "output_type": "execute_result"
    }
   ],
   "source": [
    "emission_prices.set_index('year').lvl"
   ]
  },
  {
   "cell_type": "markdown",
   "metadata": {},
   "source": [
    "These prices are now used as a starting point for a sensitivity analysis with the focus on the effect of the developement of carbon prices on projected acitivities of the different kinds of power plants. The upper bound scenario calculated here will be referred to as __\"Scenario 0.B\"__. "
   ]
  },
  {
   "cell_type": "markdown",
   "metadata": {},
   "source": [
    "## 3. Sensitivity Analysis\n",
    "\n",
    "### 3.1. Scenario A: Lower carbon prices\n",
    "\n",
    "In the first scenario carbon prices are lowered by a factor of 50. This \"extreme\" decrease of prices is made to inspect how very low carbon prices effect the activities.\n"
   ]
  },
  {
   "cell_type": "code",
   "execution_count": 33,
   "metadata": {},
   "outputs": [],
   "source": [
    "emission_prices_A = emission_prices.set_index('year').lvl/40\n",
    "emission_prices_A = [3] * 3"
   ]
  },
  {
   "cell_type": "code",
   "execution_count": 34,
   "metadata": {},
   "outputs": [],
   "source": [
    "mp = ixmp.Platform()\n",
    "model = 'Westeros Electrified'\n",
    "\n",
    "base = message_ix.Scenario(mp, model=model, scenario='westeros_with_gasppl')\n",
    "scen_a = base.clone(model, 'westeros_scenA','introducing gas power plant',\n",
    "                  keep_solution=False)\n",
    "scen_a.check_out()"
   ]
  },
  {
   "cell_type": "code",
   "execution_count": 35,
   "metadata": {},
   "outputs": [],
   "source": [
    "base_tax_emission = {\n",
    "    'node': 'Westeros',\n",
    "    'type_year': [700, 710, 720],\n",
    "    'type_tec': 'all',\n",
    "    'unit': 'USD/tCO2',\n",
    "    'type_emission': 'GHG',\n",
    "    'value': emission_prices_A\n",
    "}\n",
    "\n",
    "tax_emission = make_df(base_tax_emission)\n",
    "scen_a.add_par('tax_emission', tax_emission)\n",
    "scen_a.par('tax_emission')\n",
    "\n",
    "scen_a.commit(comment='adapt_1')\n",
    "scen_a.set_as_default()\n",
    "\n",
    "scen_a.solve()"
   ]
  },
  {
   "cell_type": "code",
   "execution_count": 36,
   "metadata": {},
   "outputs": [
    {
     "data": {
      "text/plain": [
       "<AxesSubplot:title={'center':'Westeros Energy System Activity'}, xlabel='Year', ylabel='GWa'>"
      ]
     },
     "execution_count": 36,
     "metadata": {},
     "output_type": "execute_result"
    },
    {
     "data": {
      "image/png": "[encoded data removed]",
      "text/plain": [
       "<Figure size 432x288 with 1 Axes>"
      ]
     },
     "metadata": {
      "needs_background": "light"
     },
     "output_type": "display_data"
    }
   ],
   "source": [
    "from message_ix.reporting import Reporter\n",
    "from message_ix.util.tutorial import prepare_plots\n",
    "\n",
    "rep = Reporter.from_scenario(scen_a)\n",
    "prepare_plots(rep)\n",
    "rep.set_filters(t=[\"coal_ppl\", \"wind_ppl\",\"gas_ppl\"])\n",
    "rep.get(\"plot activity\")"
   ]
  },
  {
   "cell_type": "code",
   "execution_count": 37,
   "metadata": {},
   "outputs": [],
   "source": [
    "mp.close_db()"
   ]
  },
  {
   "cell_type": "markdown",
   "metadata": {},
   "source": [
    "The result of this scenario resembles Scenario 0.A (see Section 1) where emissions are not regarded. Here, the emission prices are very low and seem to have no effect on the electricity generation."
   ]
  },
  {
   "cell_type": "markdown",
   "metadata": {},
   "source": [
    "### 3.2. Scenario B: Higher carbon taxes\n",
    "\n",
    "In increasing the carbon prices, the expectation is that wind power plant production would increase significantly. The approach of modelling an extreme is continued here by multiplying the initial carbon prices by 50. "
   ]
  },
  {
   "cell_type": "code",
   "execution_count": 38,
   "metadata": {},
   "outputs": [
    {
     "data": {
      "text/plain": [
       "year\n",
       "700    1035.285096\n",
       "710    1686.370331\n",
       "720    2746.919570\n",
       "Name: lvl, dtype: float64"
      ]
     },
     "execution_count": 38,
     "metadata": {},
     "output_type": "execute_result"
    }
   ],
   "source": [
    "emission_prices_B= emission_prices.set_index('year').lvl * 50\n",
    "emission_prices_B"
   ]
  },
  {
   "cell_type": "code",
   "execution_count": 39,
   "metadata": {},
   "outputs": [],
   "source": [
    "mp = ixmp.Platform()\n",
    "model = 'Westeros Electrified'\n",
    "\n",
    "base = message_ix.Scenario(mp, model=model, scenario='westeros_with_gasppl')\n",
    "scen_b = base.clone(model, 'westeros_scenB','introducing gas power plant',\n",
    "                  keep_solution=False)\n",
    "scen_b.check_out()"
   ]
  },
  {
   "cell_type": "code",
   "execution_count": 40,
   "metadata": {},
   "outputs": [],
   "source": [
    "base_tax_emission = {\n",
    "    'node': 'Westeros',\n",
    "    'type_year': [700, 710, 720],\n",
    "    'type_tec': 'all',\n",
    "    'unit': 'USD/tCO2',\n",
    "    'type_emission': 'GHG',\n",
    "    'value': emission_prices_B\n",
    "}\n",
    "\n",
    "tax_emission = make_df(base_tax_emission)\n",
    "scen_b.add_par('tax_emission', tax_emission)\n",
    "scen_b.par('tax_emission')\n",
    "\n",
    "scen_b.commit(comment='adapt_1')\n",
    "scen_b.set_as_default()\n",
    "\n",
    "scen_b.solve()\n"
   ]
  },
  {
   "cell_type": "code",
   "execution_count": 41,
   "metadata": {},
   "outputs": [
    {
     "data": {
      "text/plain": [
       "<AxesSubplot:title={'center':'Westeros Energy System Activity'}, xlabel='Year', ylabel='GWa'>"
      ]
     },
     "execution_count": 41,
     "metadata": {},
     "output_type": "execute_result"
    },
    {
     "data": {
      "image/png": "[encoded data removed]",
      "text/plain": [
       "<Figure size 432x288 with 1 Axes>"
      ]
     },
     "metadata": {
      "needs_background": "light"
     },
     "output_type": "display_data"
    }
   ],
   "source": [
    "from message_ix.reporting import Reporter\n",
    "from message_ix.util.tutorial import prepare_plots\n",
    "\n",
    "rep = Reporter.from_scenario(scen_b)\n",
    "prepare_plots(rep)\n",
    "rep.set_filters(t=[\"coal_ppl\", \"wind_ppl\",\"gas_ppl\"])\n",
    "rep.get(\"plot activity\")"
   ]
  },
  {
   "cell_type": "code",
   "execution_count": 42,
   "metadata": {},
   "outputs": [],
   "source": [
    "mp.close_db()"
   ]
  },
  {
   "cell_type": "markdown",
   "metadata": {},
   "source": [
    "The inital expectation is fulfilled here. It is visible that already in year 700 only electricity from wind power plants is produced."
   ]
  },
  {
   "cell_type": "markdown",
   "metadata": {},
   "source": [
    "### Scenario C: Declining carbon prices\n",
    "\n",
    "For scenario C, the assumption is a declination of carbon prices between the years 700, 710 and 720. For this, simply the order of the initial carbon prices is reversed."
   ]
  },
  {
   "cell_type": "code",
   "execution_count": 43,
   "metadata": {},
   "outputs": [
    {
     "data": {
      "text/plain": [
       "[54.93839140600808, 33.727406612358095, 20.70570192688487]"
      ]
     },
     "execution_count": 43,
     "metadata": {},
     "output_type": "execute_result"
    }
   ],
   "source": [
    "emission_prices_C = list(emission_prices.set_index('year').lvl)[::-1]\n",
    "emission_prices_C"
   ]
  },
  {
   "cell_type": "code",
   "execution_count": 44,
   "metadata": {},
   "outputs": [],
   "source": [
    "mp = ixmp.Platform()\n",
    "model = 'Westeros Electrified'\n",
    "\n",
    "base = message_ix.Scenario(mp, model=model, scenario='westeros_with_gasppl')\n",
    "scen_c = base.clone(model, 'westeros_scenC','introducing gas power plant',\n",
    "                  keep_solution=False)\n",
    "scen_c.check_out()"
   ]
  },
  {
   "cell_type": "code",
   "execution_count": 45,
   "metadata": {},
   "outputs": [],
   "source": [
    "base_tax_emission = {\n",
    "    'node': 'Westeros',\n",
    "    'type_year': [700, 710, 720],\n",
    "    'type_tec': 'all',\n",
    "    'unit': 'USD/tCO2',\n",
    "    'type_emission': 'GHG',\n",
    "    'value': emission_prices_C\n",
    "}\n",
    "\n",
    "tax_emission = make_df(base_tax_emission)\n",
    "scen_c.add_par('tax_emission', tax_emission)\n",
    "scen_c.par('tax_emission')\n",
    "\n",
    "scen_c.commit(comment='adapt_1')\n",
    "scen_c.set_as_default()\n",
    "\n",
    "scen_c.solve()"
   ]
  },
  {
   "cell_type": "code",
   "execution_count": 46,
   "metadata": {},
   "outputs": [
    {
     "data": {
      "text/plain": [
       "<AxesSubplot:title={'center':'Westeros Energy System Activity'}, xlabel='Year', ylabel='GWa'>"
      ]
     },
     "execution_count": 46,
     "metadata": {},
     "output_type": "execute_result"
    },
    {
     "data": {
      "image/png": "[encoded data removed]",
      "text/plain": [
       "<Figure size 432x288 with 1 Axes>"
      ]
     },
     "metadata": {
      "needs_background": "light"
     },
     "output_type": "display_data"
    }
   ],
   "source": [
    "from message_ix.reporting import Reporter\n",
    "from message_ix.util.tutorial import prepare_plots\n",
    "\n",
    "rep = Reporter.from_scenario(scen_c)\n",
    "prepare_plots(rep)\n",
    "rep.set_filters(t=[\"coal_ppl\", \"wind_ppl\",\"gas_ppl\"])\n",
    "rep.get(\"plot activity\")"
   ]
  },
  {
   "cell_type": "code",
   "execution_count": 47,
   "metadata": {},
   "outputs": [],
   "source": [
    "mp.close_db()"
   ]
  },
  {
   "cell_type": "markdown",
   "metadata": {},
   "source": [
    "The declining carbon prices seem to cause an overall higher activity of wind power plants. "
   ]
  },
  {
   "cell_type": "markdown",
   "metadata": {},
   "source": [
    "### Scenario D: Peak Carbon price in 710\n",
    "\n",
    "In scenarios D and E, the effect of extreme fluactions of the carbon prices will be analysed. First, an extreme peak of carbon price in 710 is assumed. "
   ]
  },
  {
   "cell_type": "code",
   "execution_count": 48,
   "metadata": {},
   "outputs": [
    {
     "data": {
      "text/plain": [
       "[20.70570192688487, 1686.3703306179048, 54.93839140600808]"
      ]
     },
     "execution_count": 48,
     "metadata": {},
     "output_type": "execute_result"
    }
   ],
   "source": [
    "emission_prices_D = [emission_prices.set_index('year').lvl[700], emission_prices.set_index('year').lvl[710]*50, emission_prices.set_index('year').lvl [720]]\n",
    "emission_prices_D"
   ]
  },
  {
   "cell_type": "code",
   "execution_count": 49,
   "metadata": {},
   "outputs": [],
   "source": [
    "mp = ixmp.Platform()\n",
    "model = 'Westeros Electrified'\n",
    "\n",
    "base = message_ix.Scenario(mp, model=model, scenario='westeros_with_gasppl')\n",
    "scen_d = base.clone(model, 'westeros_scenD','introducing gas power plant',\n",
    "                  keep_solution=False)\n",
    "scen_d.check_out()"
   ]
  },
  {
   "cell_type": "code",
   "execution_count": 50,
   "metadata": {},
   "outputs": [],
   "source": [
    "base_tax_emission = {\n",
    "    'node': 'Westeros',\n",
    "    'type_year': [700, 710, 720],\n",
    "    'type_tec': 'all',\n",
    "    'unit': 'USD/tCO2',\n",
    "    'type_emission': 'GHG',\n",
    "    'value': emission_prices_D\n",
    "}\n",
    "\n",
    "tax_emission = make_df(base_tax_emission)\n",
    "scen_d.add_par('tax_emission', tax_emission)\n",
    "scen_d.par('tax_emission')\n",
    "\n",
    "scen_d.commit(comment='adapt_1')\n",
    "scen_d.set_as_default()\n",
    "\n",
    "scen_d.solve()"
   ]
  },
  {
   "cell_type": "code",
   "execution_count": 51,
   "metadata": {},
   "outputs": [
    {
     "data": {
      "text/plain": [
       "<AxesSubplot:title={'center':'Westeros Energy System Activity'}, xlabel='Year', ylabel='GWa'>"
      ]
     },
     "execution_count": 51,
     "metadata": {},
     "output_type": "execute_result"
    },
    {
     "data": {
      "image/png": "[encoded data removed]",
      "text/plain": [
       "<Figure size 432x288 with 1 Axes>"
      ]
     },
     "metadata": {
      "needs_background": "light"
     },
     "output_type": "display_data"
    }
   ],
   "source": [
    "from message_ix.reporting import Reporter\n",
    "from message_ix.util.tutorial import prepare_plots\n",
    "\n",
    "rep = Reporter.from_scenario(scen_d)\n",
    "prepare_plots(rep)\n",
    "rep.set_filters(t=[\"coal_ppl\", \"wind_ppl\",\"gas_ppl\"])\n",
    "rep.get(\"plot activity\")"
   ]
  },
  {
   "cell_type": "code",
   "execution_count": 52,
   "metadata": {},
   "outputs": [],
   "source": [
    "mp.close_db()"
   ]
  },
  {
   "cell_type": "markdown",
   "metadata": {},
   "source": [
    "The extreme peak in 710 causes huge activities of wind power plants but also constant electricity production by gas power plants while electricity from coal similarly declines as in Scenario B."
   ]
  },
  {
   "cell_type": "markdown",
   "metadata": {},
   "source": [
    "### Scenario E: Drop in carbon price 710\n",
    "\n",
    "Finally, a scenario in which the carbon price drops in 710 is calculated. For this, it is assumed that given the initial carbon prices, the carbon price drops to 0 in year 710."
   ]
  },
  {
   "cell_type": "code",
   "execution_count": 53,
   "metadata": {},
   "outputs": [
    {
     "data": {
      "text/plain": [
       "[20.70570192688487, 0, 54.93839140600808]"
      ]
     },
     "execution_count": 53,
     "metadata": {},
     "output_type": "execute_result"
    }
   ],
   "source": [
    "emission_prices_E = [emission_prices.set_index('year').lvl[700], 0, emission_prices.set_index('year').lvl [720]]\n",
    "emission_prices_E"
   ]
  },
  {
   "cell_type": "code",
   "execution_count": 54,
   "metadata": {},
   "outputs": [],
   "source": [
    "mp = ixmp.Platform()\n",
    "model = 'Westeros Electrified'\n",
    "\n",
    "base = message_ix.Scenario(mp, model=model, scenario='westeros_with_gasppl')\n",
    "scen_e = base.clone(model, 'westeros_scenE','introducing gas power plant',\n",
    "                  keep_solution=False)\n",
    "scen_e.check_out()"
   ]
  },
  {
   "cell_type": "code",
   "execution_count": 55,
   "metadata": {},
   "outputs": [],
   "source": [
    "base_tax_emission = {\n",
    "    'node': 'Westeros',\n",
    "    'type_year': [700, 710, 720],\n",
    "    'type_tec': 'all',\n",
    "    'unit': 'USD/tCO2',\n",
    "    'type_emission': 'GHG',\n",
    "    'value': emission_prices_E\n",
    "}\n",
    "\n",
    "tax_emission = make_df(base_tax_emission)\n",
    "scen_e.add_par('tax_emission', tax_emission)\n",
    "scen_e.par('tax_emission')\n",
    "\n",
    "scen_e.commit(comment='adapt_1')\n",
    "scen_e.set_as_default()\n",
    "\n",
    "scen_e.solve()"
   ]
  },
  {
   "cell_type": "code",
   "execution_count": 56,
   "metadata": {},
   "outputs": [
    {
     "data": {
      "text/plain": [
       "<AxesSubplot:title={'center':'Westeros Energy System Activity'}, xlabel='Year', ylabel='GWa'>"
      ]
     },
     "execution_count": 56,
     "metadata": {},
     "output_type": "execute_result"
    },
    {
     "data": {
      "image/png": "[encoded data removed]",
      "text/plain": [
       "<Figure size 432x288 with 1 Axes>"
      ]
     },
     "metadata": {
      "needs_background": "light"
     },
     "output_type": "display_data"
    }
   ],
   "source": [
    "from message_ix.reporting import Reporter\n",
    "from message_ix.util.tutorial import prepare_plots\n",
    "\n",
    "rep = Reporter.from_scenario(scen_e)\n",
    "prepare_plots(rep)\n",
    "rep.set_filters(t=[\"coal_ppl\", \"wind_ppl\",\"gas_ppl\"])\n",
    "rep.get(\"plot activity\")"
   ]
  },
  {
   "cell_type": "code",
   "execution_count": 57,
   "metadata": {},
   "outputs": [],
   "source": [
    "mp.close_db()"
   ]
  },
  {
   "cell_type": "markdown",
   "metadata": {},
   "source": [
    "A drop to seems to effect the energy mix less than a sudden extreme rise in the carbon price. Though, it is important to note here that the absolute difference to the initial carbon prices is higher in Scenario D than in Scenario E. "
   ]
  },
  {
   "cell_type": "markdown",
   "metadata": {},
   "source": [
    "## 4. Final Discussion\n",
    "\n",
    "\n",
    "Overall, it is evident that the activity of coal power plants tends to decline in the presence of gas power plants. The advantage might be due to two reasons: Firstly, the emission factor of gas power plants (NGCCs) is approximatly half of the one of coal power plants. Secondly, the lifetime of gas power plants is five years longer. In the presence of carbon prices, coal power plants are mostly affected. Therefore, only Scenario 0.A where emissions are neglected and Scenario A for which very low carbon prices are assumed project continous activity of all power generation. Therefore, a so-called \"sweet spot\" for carbon prices such that coal, wind and gas are used at the same time would be close to 0 USD/tCO2. \n",
    "\n",
    "A simple sensitivity analysis assuming a constant carbon price is performed in the following where from 0 on, the price was increased slowly by 1 USD/tCO2 to observe what the highest possible carbon price could be that would allow the acitivity for all three power plant types. The upper bound was found to be 3 USD/tCO2."
   ]
  },
  {
   "cell_type": "code",
   "execution_count": 58,
   "metadata": {},
   "outputs": [],
   "source": [
    "emission_prices_sweet_spot = [3] * 3"
   ]
  },
  {
   "cell_type": "code",
   "execution_count": 59,
   "metadata": {},
   "outputs": [],
   "source": [
    "mp = ixmp.Platform()\n",
    "model = 'Westeros Electrified'\n",
    "\n",
    "base = message_ix.Scenario(mp, model=model, scenario='westeros_with_gasppl')\n",
    "scen_f = base.clone(model, 'westeros_scenD','introducing gas power plant',\n",
    "                  keep_solution=False)\n",
    "scen_f.check_out()"
   ]
  },
  {
   "cell_type": "code",
   "execution_count": 60,
   "metadata": {},
   "outputs": [],
   "source": [
    "base_tax_emission = {\n",
    "    'node': 'Westeros',\n",
    "    'type_year': [700, 710, 720],\n",
    "    'type_tec': 'all',\n",
    "    'unit': 'USD/tCO2',\n",
    "    'type_emission': 'GHG',\n",
    "    'value': emission_prices_sweet_spot\n",
    "}\n",
    "\n",
    "tax_emission = make_df(base_tax_emission)\n",
    "scen_f.add_par('tax_emission', tax_emission)\n",
    "scen_f.par('tax_emission')\n",
    "\n",
    "scen_f.commit(comment='adapt_1')\n",
    "scen_f.set_as_default()\n",
    "\n",
    "scen_f.solve()"
   ]
  },
  {
   "cell_type": "code",
   "execution_count": 61,
   "metadata": {},
   "outputs": [
    {
     "data": {
      "text/plain": [
       "<AxesSubplot:title={'center':'Westeros Energy System Activity'}, xlabel='Year', ylabel='GWa'>"
      ]
     },
     "execution_count": 61,
     "metadata": {},
     "output_type": "execute_result"
    },
    {
     "data": {
      "image/png": "[encoded data removed]",
      "text/plain": [
       "<Figure size 432x288 with 1 Axes>"
      ]
     },
     "metadata": {
      "needs_background": "light"
     },
     "output_type": "display_data"
    }
   ],
   "source": [
    "from message_ix.reporting import Reporter\n",
    "from message_ix.util.tutorial import prepare_plots\n",
    "\n",
    "rep = Reporter.from_scenario(scen_f)\n",
    "prepare_plots(rep)\n",
    "rep.set_filters(t=[\"coal_ppl\", \"wind_ppl\",\"gas_ppl\"])\n",
    "rep.get(\"plot activity\")"
   ]
  },
  {
   "cell_type": "code",
   "execution_count": 62,
   "metadata": {},
   "outputs": [],
   "source": [
    "mp.close_db()"
   ]
  }
 ],
 "metadata": {
  "anaconda-cloud": {},
  "kernelspec": {
   "display_name": "Python 3",
   "language": "python",
   "name": "python3"
  },
  "language_info": {
   "codemirror_mode": {
    "name": "ipython",
    "version": 3
   },
   "file_extension": ".py",
   "mimetype": "text/x-python",
   "name": "python",
   "nbconvert_exporter": "python",
   "pygments_lexer": "ipython3",
   "version": "3.8.10"
  }
 },
 "nbformat": 4,
 "nbformat_minor": 2
}
